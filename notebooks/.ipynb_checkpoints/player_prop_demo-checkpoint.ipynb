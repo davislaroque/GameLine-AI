{
 "cells": [
  {
   "cell_type": "code",
   "execution_count": 45,
   "id": "b65e5d91",
   "metadata": {},
   "outputs": [],
   "source": [
    "\n",
    "import os, sys\n",
    "repo_root = os.path.abspath(os.path.join(os.getcwd(), \"..\"))\n",
    "sys.path.append(os.path.join(repo_root, \"src\"))  # so we can import from src/\n",
    "\n",
    "import importlib\n",
    "import ingestion\n",
    "importlib.reload(ingestion)\n",
    "import processing\n",
    "importlib.reload(processing)\n",
    "import features\n",
    "import modeling\n",
    "import evaluation\n",
    "import analysis\n",
    "importlib.reload(analysis)\n",
    "\n",
    "import pandas as pd\n",
    "import matplotlib.pyplot as plt\n",
    "from analysis import parse_market, find_best_odds, detect_arbitrage\n",
    "\n"
   ]
  },
  {
   "cell_type": "code",
   "execution_count": 26,
   "id": "af59d5d8",
   "metadata": {},
   "outputs": [
    {
     "name": "stdout",
     "output_type": "stream",
     "text": [
      "                              game_id sport         commence_time  \\\n",
      "0    bbde7751a144b98ed150d7a5f7dc8f87   NBA  2025-10-21T23:30:00Z   \n",
      "1    bbde7751a144b98ed150d7a5f7dc8f87   NBA  2025-10-21T23:30:00Z   \n",
      "2    bbde7751a144b98ed150d7a5f7dc8f87   NBA  2025-10-21T23:30:00Z   \n",
      "3    bbde7751a144b98ed150d7a5f7dc8f87   NBA  2025-10-21T23:30:00Z   \n",
      "4    bbde7751a144b98ed150d7a5f7dc8f87   NBA  2025-10-21T23:30:00Z   \n",
      "..                                ...   ...                   ...   \n",
      "209  d9b1ce3cf25e2645fdb24e89d4f1a38e   NBA  2026-01-19T19:30:00Z   \n",
      "210  e7f04ed48f026208a6d078b5b3bc118b   NBA  2026-01-19T22:00:00Z   \n",
      "211  e7f04ed48f026208a6d078b5b3bc118b   NBA  2026-01-19T22:00:00Z   \n",
      "212  df230babfc6ef1362f740fbb16136e77   NBA  2026-01-20T01:00:00Z   \n",
      "213  df230babfc6ef1362f740fbb16136e77   NBA  2026-01-20T01:00:00Z   \n",
      "\n",
      "                 home_team              away_team    bookmaker  \\\n",
      "0    Oklahoma City Thunder        Houston Rockets   DraftKings   \n",
      "1    Oklahoma City Thunder        Houston Rockets   DraftKings   \n",
      "2    Oklahoma City Thunder        Houston Rockets      FanDuel   \n",
      "3    Oklahoma City Thunder        Houston Rockets      FanDuel   \n",
      "4    Oklahoma City Thunder        Houston Rockets  MyBookie.ag   \n",
      "..                     ...                    ...          ...   \n",
      "209    Cleveland Cavaliers  Oklahoma City Thunder   DraftKings   \n",
      "210        New York Knicks       Dallas Mavericks   DraftKings   \n",
      "211        New York Knicks       Dallas Mavericks   DraftKings   \n",
      "212        Detroit Pistons         Boston Celtics   DraftKings   \n",
      "213        Detroit Pistons         Boston Celtics   DraftKings   \n",
      "\n",
      "              last_update market           outcome_name  price  \n",
      "0    2025-10-07T20:10:51Z    h2h        Houston Rockets   3.60  \n",
      "1    2025-10-07T20:10:51Z    h2h  Oklahoma City Thunder   1.31  \n",
      "2    2025-10-07T20:08:34Z    h2h        Houston Rockets   3.45  \n",
      "3    2025-10-07T20:08:34Z    h2h  Oklahoma City Thunder   1.33  \n",
      "4    2025-10-07T20:11:36Z    h2h        Houston Rockets   3.42  \n",
      "..                    ...    ...                    ...    ...  \n",
      "209  2025-10-07T20:10:51Z    h2h  Oklahoma City Thunder   1.91  \n",
      "210  2025-10-07T20:10:51Z    h2h       Dallas Mavericks   2.95  \n",
      "211  2025-10-07T20:10:51Z    h2h        New York Knicks   1.42  \n",
      "212  2025-10-07T20:10:51Z    h2h         Boston Celtics   2.54  \n",
      "213  2025-10-07T20:10:51Z    h2h        Detroit Pistons   1.54  \n",
      "\n",
      "[214 rows x 10 columns]\n"
     ]
    }
   ],
   "source": [
    "data = ingestion.fetch_player_props(\n",
    "    sport=\"basketball_nba\",\n",
    "    markets=\"h2h\", \n",
    "    regions=\"us\",\n",
    "    odds_format=\"decimal\"\n",
    ")\n",
    "\n",
    "odds_df = processing.flatten_odds_to_df(data, market=\"h2h\")\n",
    "print(odds_df)\n",
    "\n"
   ]
  },
  {
   "cell_type": "code",
   "execution_count": 27,
   "id": "a62cd2fb",
   "metadata": {},
   "outputs": [
    {
     "name": "stdout",
     "output_type": "stream",
     "text": [
      "                            game_id         commence_time  \\\n",
      "0  bbde7751a144b98ed150d7a5f7dc8f87  2025-10-21T23:30:00Z   \n",
      "1  bbde7751a144b98ed150d7a5f7dc8f87  2025-10-21T23:30:00Z   \n",
      "2  bbde7751a144b98ed150d7a5f7dc8f87  2025-10-21T23:30:00Z   \n",
      "3  bbde7751a144b98ed150d7a5f7dc8f87  2025-10-21T23:30:00Z   \n",
      "4  bbde7751a144b98ed150d7a5f7dc8f87  2025-10-21T23:30:00Z   \n",
      "\n",
      "               home_team        away_team outcome_name    bookmaker market  \\\n",
      "0  Oklahoma City Thunder  Houston Rockets         None   DraftKings    h2h   \n",
      "1  Oklahoma City Thunder  Houston Rockets         None   DraftKings    h2h   \n",
      "2  Oklahoma City Thunder  Houston Rockets         None      FanDuel    h2h   \n",
      "3  Oklahoma City Thunder  Houston Rockets         None      FanDuel    h2h   \n",
      "4  Oklahoma City Thunder  Houston Rockets         None  MyBookie.ag    h2h   \n",
      "\n",
      "  player  price point  \n",
      "0   None   3.60  None  \n",
      "1   None   1.31  None  \n",
      "2   None   3.45  None  \n",
      "3   None   1.33  None  \n",
      "4   None   3.42  None  \n"
     ]
    }
   ],
   "source": [
    "# calls ingestion.py function to fetch odds from The Odds API\n",
    "\n",
    "api_key = os.getenv(\"ODDS_API_KEY\")\n",
    "market = \"player_points\"\n",
    "\n",
    "\n",
    "odds_df = ingestion.fetch_odds(sport=\"basketball_nba\", markets=\"h2h\", regions=\"us\", odds_format=\"decimal\")\n",
    "print(odds_df.head())\n",
    "\n"
   ]
  },
  {
   "cell_type": "code",
   "execution_count": 48,
   "id": "6a0aae0b",
   "metadata": {},
   "outputs": [
    {
     "ename": "KeyError",
     "evalue": "\"['arbitrage_margin'] not in index\"",
     "output_type": "error",
     "traceback": [
      "\u001b[0;31m---------------------------------------------------------------------------\u001b[0m",
      "\u001b[0;31mKeyError\u001b[0m                                  Traceback (most recent call last)",
      "Cell \u001b[0;32mIn[48], line 4\u001b[0m\n\u001b[1;32m      1\u001b[0m \u001b[38;5;66;03m# Converts raw sportsbook odds to implied probabilities, then de-vig them\u001b[39;00m\n\u001b[1;32m      3\u001b[0m processed_df \u001b[38;5;241m=\u001b[39m processing\u001b[38;5;241m.\u001b[39modds_to_probs(odds_df)\n\u001b[0;32m----> 4\u001b[0m processed_df[[\u001b[38;5;124m\"\u001b[39m\u001b[38;5;124mhome_team\u001b[39m\u001b[38;5;124m\"\u001b[39m, \u001b[38;5;124m\"\u001b[39m\u001b[38;5;124maway_team\u001b[39m\u001b[38;5;124m\"\u001b[39m, \u001b[38;5;124m\"\u001b[39m\u001b[38;5;124mbookmaker\u001b[39m\u001b[38;5;124m\"\u001b[39m, \u001b[38;5;124m\"\u001b[39m\u001b[38;5;124mplayer\u001b[39m\u001b[38;5;124m\"\u001b[39m, \u001b[38;5;124m\"\u001b[39m\u001b[38;5;124mmarket\u001b[39m\u001b[38;5;124m\"\u001b[39m, \u001b[38;5;124m\"\u001b[39m\u001b[38;5;124mprice\u001b[39m\u001b[38;5;124m\"\u001b[39m, \u001b[38;5;124m\"\u001b[39m\u001b[38;5;124mimplied_prob\u001b[39m\u001b[38;5;124m\"\u001b[39m, \u001b[38;5;124m\"\u001b[39m\u001b[38;5;124mdevig_prob\u001b[39m\u001b[38;5;124m\"\u001b[39m, \u001b[38;5;124m\"\u001b[39m\u001b[38;5;124marbitrage_margin\u001b[39m\u001b[38;5;124m\"\u001b[39m]]\n",
      "File \u001b[0;32m~/anaconda3/lib/python3.11/site-packages/pandas/core/frame.py:3813\u001b[0m, in \u001b[0;36mDataFrame.__getitem__\u001b[0;34m(self, key)\u001b[0m\n\u001b[1;32m   3811\u001b[0m     \u001b[38;5;28;01mif\u001b[39;00m is_iterator(key):\n\u001b[1;32m   3812\u001b[0m         key \u001b[38;5;241m=\u001b[39m \u001b[38;5;28mlist\u001b[39m(key)\n\u001b[0;32m-> 3813\u001b[0m     indexer \u001b[38;5;241m=\u001b[39m \u001b[38;5;28mself\u001b[39m\u001b[38;5;241m.\u001b[39mcolumns\u001b[38;5;241m.\u001b[39m_get_indexer_strict(key, \u001b[38;5;124m\"\u001b[39m\u001b[38;5;124mcolumns\u001b[39m\u001b[38;5;124m\"\u001b[39m)[\u001b[38;5;241m1\u001b[39m]\n\u001b[1;32m   3815\u001b[0m \u001b[38;5;66;03m# take() does not accept boolean indexers\u001b[39;00m\n\u001b[1;32m   3816\u001b[0m \u001b[38;5;28;01mif\u001b[39;00m \u001b[38;5;28mgetattr\u001b[39m(indexer, \u001b[38;5;124m\"\u001b[39m\u001b[38;5;124mdtype\u001b[39m\u001b[38;5;124m\"\u001b[39m, \u001b[38;5;28;01mNone\u001b[39;00m) \u001b[38;5;241m==\u001b[39m \u001b[38;5;28mbool\u001b[39m:\n",
      "File \u001b[0;32m~/anaconda3/lib/python3.11/site-packages/pandas/core/indexes/base.py:6070\u001b[0m, in \u001b[0;36mIndex._get_indexer_strict\u001b[0;34m(self, key, axis_name)\u001b[0m\n\u001b[1;32m   6067\u001b[0m \u001b[38;5;28;01melse\u001b[39;00m:\n\u001b[1;32m   6068\u001b[0m     keyarr, indexer, new_indexer \u001b[38;5;241m=\u001b[39m \u001b[38;5;28mself\u001b[39m\u001b[38;5;241m.\u001b[39m_reindex_non_unique(keyarr)\n\u001b[0;32m-> 6070\u001b[0m \u001b[38;5;28mself\u001b[39m\u001b[38;5;241m.\u001b[39m_raise_if_missing(keyarr, indexer, axis_name)\n\u001b[1;32m   6072\u001b[0m keyarr \u001b[38;5;241m=\u001b[39m \u001b[38;5;28mself\u001b[39m\u001b[38;5;241m.\u001b[39mtake(indexer)\n\u001b[1;32m   6073\u001b[0m \u001b[38;5;28;01mif\u001b[39;00m \u001b[38;5;28misinstance\u001b[39m(key, Index):\n\u001b[1;32m   6074\u001b[0m     \u001b[38;5;66;03m# GH 42790 - Preserve name from an Index\u001b[39;00m\n",
      "File \u001b[0;32m~/anaconda3/lib/python3.11/site-packages/pandas/core/indexes/base.py:6133\u001b[0m, in \u001b[0;36mIndex._raise_if_missing\u001b[0;34m(self, key, indexer, axis_name)\u001b[0m\n\u001b[1;32m   6130\u001b[0m     \u001b[38;5;28;01mraise\u001b[39;00m \u001b[38;5;167;01mKeyError\u001b[39;00m(\u001b[38;5;124mf\u001b[39m\u001b[38;5;124m\"\u001b[39m\u001b[38;5;124mNone of [\u001b[39m\u001b[38;5;132;01m{\u001b[39;00mkey\u001b[38;5;132;01m}\u001b[39;00m\u001b[38;5;124m] are in the [\u001b[39m\u001b[38;5;132;01m{\u001b[39;00maxis_name\u001b[38;5;132;01m}\u001b[39;00m\u001b[38;5;124m]\u001b[39m\u001b[38;5;124m\"\u001b[39m)\n\u001b[1;32m   6132\u001b[0m not_found \u001b[38;5;241m=\u001b[39m \u001b[38;5;28mlist\u001b[39m(ensure_index(key)[missing_mask\u001b[38;5;241m.\u001b[39mnonzero()[\u001b[38;5;241m0\u001b[39m]]\u001b[38;5;241m.\u001b[39munique())\n\u001b[0;32m-> 6133\u001b[0m \u001b[38;5;28;01mraise\u001b[39;00m \u001b[38;5;167;01mKeyError\u001b[39;00m(\u001b[38;5;124mf\u001b[39m\u001b[38;5;124m\"\u001b[39m\u001b[38;5;132;01m{\u001b[39;00mnot_found\u001b[38;5;132;01m}\u001b[39;00m\u001b[38;5;124m not in index\u001b[39m\u001b[38;5;124m\"\u001b[39m)\n",
      "\u001b[0;31mKeyError\u001b[0m: \"['arbitrage_margin'] not in index\""
     ]
    }
   ],
   "source": [
    "# Converts raw sportsbook odds to implied probabilities, then de-vig them\n",
    "\n",
    "processed_df = processing.odds_to_probs(odds_df)\n",
    "processed_df[[\"home_team\", \"away_team\", \"bookmaker\", \"player\", \"market\", \"price\", \"implied_prob\", \"devig_prob\", \"arbitrage_margin\"]]\n"
   ]
  },
  {
   "cell_type": "code",
   "execution_count": 46,
   "id": "5399ce64",
   "metadata": {},
   "outputs": [
    {
     "data": {
      "text/html": [
       "<div>\n",
       "<style scoped>\n",
       "    .dataframe tbody tr th:only-of-type {\n",
       "        vertical-align: middle;\n",
       "    }\n",
       "\n",
       "    .dataframe tbody tr th {\n",
       "        vertical-align: top;\n",
       "    }\n",
       "\n",
       "    .dataframe thead th {\n",
       "        text-align: right;\n",
       "    }\n",
       "</style>\n",
       "<table border=\"1\" class=\"dataframe\">\n",
       "  <thead>\n",
       "    <tr style=\"text-align: right;\">\n",
       "      <th></th>\n",
       "    </tr>\n",
       "  </thead>\n",
       "  <tbody>\n",
       "  </tbody>\n",
       "</table>\n",
       "</div>"
      ],
      "text/plain": [
       "Empty DataFrame\n",
       "Columns: []\n",
       "Index: []"
      ]
     },
     "execution_count": 46,
     "metadata": {},
     "output_type": "execute_result"
    }
   ],
   "source": [
    "discrep = analysis.detect_discrepancies(processed_df, \"h2h\")\n",
    "discrep"
   ]
  },
  {
   "cell_type": "code",
   "execution_count": null,
   "id": "9568b5cc",
   "metadata": {},
   "outputs": [],
   "source": [
    "# Fits a predictive model using the feature set\n",
    "\n",
    "X = feature_df.drop(columns=[\"target_points\"])\n",
    "y = feature_df[\"target_points\"]\n",
    "\n",
    "model = modeling.train_model(X, y)\n",
    "preds = modeling.predict(model, X)\n",
    "\n",
    "pd.DataFrame({\"actual\": y[:10], \"predicted\": preds[:10]})\n"
   ]
  },
  {
   "cell_type": "code",
   "execution_count": null,
   "id": "7f4a0ae9",
   "metadata": {},
   "outputs": [],
   "source": [
    "# Runs a backtest to see how the model would have performed vs. sportsbook lines\n",
    "\n",
    "results = backtest.run_backtest(processed_df, preds, stake_size=50)\n",
    "results.head()\n"
   ]
  },
  {
   "cell_type": "code",
   "execution_count": null,
   "id": "a1b087ce",
   "metadata": {},
   "outputs": [],
   "source": [
    "# Show profit/loss curve\n",
    "\n",
    "plt.plot(results[\"date\"], results[\"cumulative_pnl\"], marker=\"o\")\n",
    "plt.title(\"Backtest Profit & Loss\")\n",
    "plt.xlabel(\"Date\")\n",
    "plt.ylabel(\"Cumulative PnL ($)\")\n",
    "plt.grid(True)\n",
    "plt.show()\n"
   ]
  },
  {
   "cell_type": "code",
   "execution_count": null,
   "id": "2e53fa5f",
   "metadata": {},
   "outputs": [],
   "source": [
    "# Example usage for arbitrage function\n",
    "\n",
    "game = odds_json[0]  # assuming odds_json is API response list\n",
    "parsed = parse_market(game, \"h2h\")\n",
    "best_odds = find_best_odds(parsed)\n",
    "\n",
    "arb = detect_arbitrage(best_odds)\n",
    "if arb:\n",
    "    print(f\"✅ Arbitrage detected! Profit margin: {arb}%\")\n",
    "    print(best_odds)\n",
    "else:\n",
    "    print(\"No arbitrage opportunity.\")\n"
   ]
  }
 ],
 "metadata": {
  "kernelspec": {
   "display_name": "Python 3 (ipykernel)",
   "language": "python",
   "name": "python3"
  },
  "language_info": {
   "codemirror_mode": {
    "name": "ipython",
    "version": 3
   },
   "file_extension": ".py",
   "mimetype": "text/x-python",
   "name": "python",
   "nbconvert_exporter": "python",
   "pygments_lexer": "ipython3",
   "version": "3.11.4"
  }
 },
 "nbformat": 4,
 "nbformat_minor": 5
}
